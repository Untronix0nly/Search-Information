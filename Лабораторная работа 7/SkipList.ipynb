{
 "cells": [
  {
   "cell_type": "code",
   "execution_count": 51,
   "metadata": {},
   "outputs": [],
   "source": [
    "import os\n",
    "import sys\n",
    "import time\n",
    "import sortedcontainers\n",
    "from sortedcontainers import SortedDict\n",
    "import pickle\n",
    "import math\n",
    "import re\n",
    "import hashlib"
   ]
  },
  {
   "cell_type": "code",
   "execution_count": 2,
   "metadata": {},
   "outputs": [],
   "source": [
    "with open('table.pickle','rb') as stream:\n",
    "    arrays = pickle.load(stream)"
   ]
  },
  {
   "cell_type": "code",
   "execution_count": 3,
   "metadata": {},
   "outputs": [],
   "source": [
    "arr = arrays.values()"
   ]
  },
  {
   "cell_type": "code",
   "execution_count": 30,
   "metadata": {},
   "outputs": [],
   "source": [
    "skip_pos = []\n",
    "for array in arr:\n",
    "    skip_jump = int(math.sqrt(len(array)))\n",
    "    idx = 0\n",
    "    skip_dicts = {}\n",
    "    while idx < len(array):\n",
    "        skip_dicts[idx] = idx + skip_jump\n",
    "        idx += skip_jump \n",
    "    skip_pos.append(skip_dicts)\n",
    "\n",
    "    "
   ]
  },
  {
   "cell_type": "code",
   "execution_count": 31,
   "metadata": {},
   "outputs": [],
   "source": [
    "dictionary = {}\n",
    "idx = 0\n",
    "for key in arrays:\n",
    "    dictionary[key] = skip_pos[idx]\n",
    "    idx+=1"
   ]
  },
  {
   "cell_type": "code",
   "execution_count": 32,
   "metadata": {},
   "outputs": [],
   "source": [
    "def string2numeric_hash(text):\n",
    "    import hashlib\n",
    "    return int(hashlib.sha256(text.encode(\"utf-8\")).hexdigest()[:16], 16)"
   ]
  },
  {
   "cell_type": "code",
   "execution_count": 38,
   "metadata": {},
   "outputs": [],
   "source": [
    "def intersectWithSkips(term1,term2):\n",
    "    answer = []\n",
    "    arr_term1 = arrays[string2numeric_hash(term1)]\n",
    "    jump_term1 = dictionary[string2numeric_hash(term1)]\n",
    "    arr_term2 = arrays[string2numeric_hash(term2)]\n",
    "    jump_term2 = dictionary[string2numeric_hash(term2)]\n",
    "    min_range = min(len(arr_term1),len(arr_term2))\n",
    "    idx = 0\n",
    "    jdx = 0\n",
    "    while idx < min_range and jdx < min_range:\n",
    "        if arr_term1[idx] == arr_term2[jdx]:\n",
    "            answer.append(arr_term1[idx])\n",
    "            idx+=1\n",
    "            jdx+=1\n",
    "        elif arr_term1[idx] < arr_term2[jdx]:\n",
    "            if (idx in jump_term1) and (arr_term1[jump_term1[idx]] <= arr_term2[jdx]):\n",
    "                print(idx)\n",
    "                while (idx in jump_term1) and (arr_term1[jump_term1[idx]] <= arr_term2[jdx]):\n",
    "                    idx = jump_term1[idx]\n",
    "            else:\n",
    "                idx += 1\n",
    "        else:\n",
    "            if (jdx in jump_term2) and (arr_term1[idx] >= arr_term2[jump_term2[jdx]]):\n",
    "                while (jdx in jump_term2) and (arr_term1[idx] >= arr_term2[jump_term2[jdx]]):\n",
    "                    jdx = jump_term2[jdx]\n",
    "            else:\n",
    "                jdx+=1\n",
    "    return answer\n",
    "                \n",
    "                                           \n",
    "            \n",
    "        "
   ]
  },
  {
   "cell_type": "code",
   "execution_count": 64,
   "metadata": {},
   "outputs": [
    {
     "name": "stdout",
     "output_type": "stream",
     "text": [
      "[7, 8, 13, 18, 19, 20, 25, 50, 84, 105, 150, 168, 212, 252, 255, 278, 283, 298, 304, 332, 341, 446, 470, 487, 489, 530, 535, 557, 583, 631, 643, 652, 661, 664, 672, 715, 774, 781, 811, 836, 845, 958, 984, 1037, 1064, 1068, 1076, 1077, 1080, 1086, 1100, 1112, 1113, 1118, 1140, 1233, 1238, 1274, 1282, 1318, 1339, 1340, 1347, 1348, 1349, 1359, 1376, 1388, 1393, 1402, 1423, 1426, 1438, 1447, 1597, 1673, 1689, 1700, 1711, 1738, 1751, 1753, 1758, 1786, 1812, 1887, 1896, 1931, 1934, 2004, 2024, 2054, 2060, 2090, 2143, 2145, 2193, 2242, 2245, 2250, 2330, 2452]\n",
      "Wall time: 0 ns\n"
     ]
    }
   ],
   "source": [
    "%%time\n",
    "a = intersectWithSkips('надо','или')\n",
    "print(a)"
   ]
  },
  {
   "cell_type": "code",
   "execution_count": 63,
   "metadata": {},
   "outputs": [
    {
     "name": "stdout",
     "output_type": "stream",
     "text": [
      "Wall time: 994 µs\n"
     ]
    }
   ],
   "source": [
    "%%time\n",
    "b = sorted(list(set(arrays[string2numeric_hash('надо')]).intersection(set(arrays[string2numeric_hash('или')]))))"
   ]
  },
  {
   "cell_type": "code",
   "execution_count": 65,
   "metadata": {},
   "outputs": [
    {
     "data": {
      "text/plain": [
       "1136"
      ]
     },
     "execution_count": 65,
     "metadata": {},
     "output_type": "execute_result"
    }
   ],
   "source": [
    "len(b)"
   ]
  },
  {
   "cell_type": "code",
   "execution_count": 66,
   "metadata": {},
   "outputs": [
    {
     "data": {
      "text/plain": [
       "102"
      ]
     },
     "execution_count": 66,
     "metadata": {},
     "output_type": "execute_result"
    }
   ],
   "source": [
    "len(a)"
   ]
  },
  {
   "cell_type": "code",
   "execution_count": 42,
   "metadata": {},
   "outputs": [
    {
     "data": {
      "text/plain": [
       "False"
      ]
     },
     "execution_count": 42,
     "metadata": {},
     "output_type": "execute_result"
    }
   ],
   "source": [
    "(np.array(a) - np.array(b)[:102]).any()"
   ]
  },
  {
   "cell_type": "code",
   "execution_count": 44,
   "metadata": {},
   "outputs": [],
   "source": [
    "with open('skips.pickle','wb') as stream:\n",
    "    pickle.dump(dictionary,stream)"
   ]
  },
  {
   "cell_type": "code",
   "execution_count": 59,
   "metadata": {},
   "outputs": [
    {
     "name": "stdout",
     "output_type": "stream",
     "text": [
      "Wall time: 0 ns\n"
     ]
    }
   ],
   "source": [
    "%%time\n",
    "c = intersectWithSkips('латвия','надо')"
   ]
  },
  {
   "cell_type": "code",
   "execution_count": 60,
   "metadata": {},
   "outputs": [
    {
     "data": {
      "text/plain": [
       "[19, 20, 25, 774, 1064, 1348, 4008, 5852, 5966, 6239, 6576, 7374, 7462, 7853]"
      ]
     },
     "execution_count": 60,
     "metadata": {},
     "output_type": "execute_result"
    }
   ],
   "source": [
    "c"
   ]
  },
  {
   "cell_type": "code",
   "execution_count": null,
   "metadata": {},
   "outputs": [],
   "source": []
  },
  {
   "cell_type": "code",
   "execution_count": null,
   "metadata": {},
   "outputs": [],
   "source": []
  }
 ],
 "metadata": {
  "kernelspec": {
   "display_name": "Python 3",
   "language": "python",
   "name": "python3"
  },
  "language_info": {
   "codemirror_mode": {
    "name": "ipython",
    "version": 3
   },
   "file_extension": ".py",
   "mimetype": "text/x-python",
   "name": "python",
   "nbconvert_exporter": "python",
   "pygments_lexer": "ipython3",
   "version": "3.7.1"
  }
 },
 "nbformat": 4,
 "nbformat_minor": 2
}
